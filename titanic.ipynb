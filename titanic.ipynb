{
 "cells": [
  {
   "cell_type": "markdown",
   "metadata": {
    "tags": []
   },
   "source": [
    "# *Cosmian Secure Computation:* Run any Python code on encrypted data\n",
    "\n",
    "## Overview\n",
    "\n",
    "On April 15, 1912, the Titanic sank after colliding with an iceberg. Unfortunately, there weren’t enough lifeboats for everyone on board, resulting in the death of 1502 out of 2224 passengers and crew.\n",
    "\n",
    "Alice owns the passenger data (name, age, gender, socio-economic class, etc.) and wants to perform statistical analysis with these sensitive data.\n",
    "\n",
    "With *Cosmian Secure Computation*, she can do this analysis while their data stay encrypted the whole time.\n",
    "\n",
    "\n",
    "## Step 1: Create computation (Computation Owner)\n",
    "\n",
    "The first step is to create a computation and specify each role.\n",
    "\n",
    "In this toy example, Alice, the `Computation Owner`, is also the `Code Provider`, the `Data Provider`, and the `Result Consumer`.\n",
    "\n",
    "In a production setup, you can split these roles between different parties. Moreover, there can be several `Data Providers` and several `Result Consumers`.\n",
    "\n",
    "To create a computation, Alice needs a secret token. They are available on the [Cosmian console](https://console.cosmian.com), on the [Secret token page](https://console.cosmian.com/secret-token). In this example, the tokens are stored in the `config.ini` file."
   ]
  },
  {
   "cell_type": "code",
   "execution_count": 1,
   "metadata": {},
   "outputs": [],
   "source": [
    "# Import packages\n",
    "!pip install -U cosmian_secure_computation_client --quiet\n",
    "!pip install pandas --quiet\n",
    "!pip install seaborn --quiet\n",
    "import pandas as pd\n",
    "import seaborn as sns\n",
    "from cosmian_secure_computation_client import ComputationOwnerAPI, CodeProviderAPI, DataProviderAPI, ResultConsumerAPI\n",
    "from configparser import ConfigParser\n",
    "\n",
    "# Get the Cosmian token (available on https://console.cosmian.com/secret-token)\n",
    "config = ConfigParser()\n",
    "config.read(\"config.ini\")\n",
    "TOKEN1: str = config[\"Credentials\"][\"token_1\"]\n",
    "computation_owner = ComputationOwnerAPI(TOKEN1)\n",
    "\n",
    "# Load the public key\n",
    "with open('public_keys/public_key_co.txt') as f:\n",
    "    public_key_co = f.read()\n",
    "\n",
    "# Create a new computation\n",
    "computation = computation_owner.create_computation(\n",
    "    'Titanic 🚢',\n",
    "    owner_public_key=public_key_co,\n",
    "    code_provider_email=\"alice@cosmian.com\",\n",
    "    data_providers_emails=[\"alice@cosmian.com\"],\n",
    "    result_consumers_emails=[\"alice@cosmian.com\"])"
   ]
  },
  {
   "cell_type": "markdown",
   "metadata": {},
   "source": [
    "---\n",
    "## Step 2: Register (All participants)\n",
    "\n",
    "To register, participants need a public PGP key. To generate PGP key pair, participants can use free software like [GPG](https://gnupg.org/download/index.html). In this example, public PGP were generated offline and stored in the folder `public_keys`.\n",
    "\n",
    "Note: At this time, participants who have several roles need distinct public keys for each. In our case, Alice will have to provide four different public keys."
   ]
  },
  {
   "cell_type": "code",
   "execution_count": 2,
   "metadata": {},
   "outputs": [],
   "source": [
    "# Register Code Provider\n",
    "computation_uuid = computation.uuid\n",
    "code_provider = CodeProviderAPI(TOKEN1)\n",
    "with open('public_keys/public_key_cp.txt') as f:\n",
    "    public_key_cp = f.read()\n",
    "\n",
    "computation = code_provider.register(computation_uuid, public_key_cp)\n",
    "\n",
    "\n",
    "# Register Data Provider 1\n",
    "data_provider1 = DataProviderAPI(TOKEN1)\n",
    "with open('public_keys/public_key_dp1.txt') as f:\n",
    "    public_key_dp1 = f.read()\n",
    "\n",
    "computation = data_provider1.register(computation_uuid, public_key_dp1)\n",
    "\n",
    "\n",
    "# Register Result Consumer 1\n",
    "result_consumer1 = ResultConsumerAPI(TOKEN1)\n",
    "with open('public_keys/public_key_rc1.txt') as f:\n",
    "    public_key_rc1 = f.read()\n",
    "\n",
    "computation = result_consumer1.register(computation_uuid, public_key_rc1)"
   ]
  },
  {
   "cell_type": "markdown",
   "metadata": {
    "tags": []
   },
   "source": [
    "---\n",
    "## Step 3: Provide code (Code Provider)\n",
    "\n",
    "Alice provides the code she wrote. It must be organized like this:\n",
    "\n",
    "```bash\n",
    "code_titanic\n",
    "├── secret_module.py\n",
    "└── run.py\n",
    "```\n",
    "\n",
    "All the files in this folder (except `run.py`) are encrypted with a symmetric key before being sent to the enclave. The Cosmian client provides a function for that, but you can also use whatever suits your security needs.\n",
    "\n",
    "Once the secure enclave receives the code, it is sealed and generates the computation checklist automatically."
   ]
  },
  {
   "cell_type": "code",
   "execution_count": 3,
   "metadata": {},
   "outputs": [],
   "source": [
    "# Import package\n",
    "from pathlib import Path\n",
    "from cosmian_secure_computation_client.crypto.helper import random_symkey\n",
    "\n",
    "# Generate a symmetric key\n",
    "symmetric_key = random_symkey()\n",
    "\n",
    "# Upload the code, encrypted\n",
    "path = Path(\"./code_titanic\")\n",
    "code_provider.upload(computation_uuid, symmetric_key, path);"
   ]
  },
  {
   "cell_type": "markdown",
   "metadata": {},
   "source": [
    "---\n",
    "## Step 4: Approve participants (Computation Owner)\n",
    "\n",
    "Then, Alice can verify that the participants' list is correct."
   ]
  },
  {
   "cell_type": "code",
   "execution_count": 4,
   "metadata": {
    "tags": []
   },
   "outputs": [
    {
     "name": "stdout",
     "output_type": "stream",
     "text": [
      "Waiting 10s the generation of the enclave identity…\n",
      "Waiting 10s the generation of the enclave identity…\n",
      "Waiting 10s the generation of the enclave identity…\n",
      "Waiting 10s the generation of the enclave identity…\n",
      "Waiting 10s the generation of the enclave identity…\n",
      "Waiting 10s the generation of the enclave identity…\n"
     ]
    }
   ],
   "source": [
    "# Wait for the generation of the enclave identity\n",
    "import time\n",
    "while True:\n",
    "    computation = computation_owner.get_computation(computation_uuid);\n",
    "    if computation.enclave.identity is None:\n",
    "        print(\"Waiting 10s the generation of the enclave identity…\")\n",
    "        time.sleep(10)\n",
    "    else:\n",
    "        break\n",
    "\n",
    "# Check the computation\n",
    "quote = computation.enclave.identity.quote\n",
    "\n",
    "# Print the quote\n",
    "#print(\"\\n\\n\")\n",
    "#print(computation_owner.remote_attestation(quote))\n",
    "#print(\"\\n\\n\")\n",
    "\n",
    "# Approve the participants\n",
    "computation_owner.approve_participants(computation.uuid, public_key_co);"
   ]
  },
  {
   "cell_type": "markdown",
   "metadata": {},
   "source": [
    "---\n",
    "## Step 5: Approve computation (Code Provider)\n",
    "\n",
    "Alice can now send her symmetric key, sealed with the public key of the enclave."
   ]
  },
  {
   "cell_type": "code",
   "execution_count": 5,
   "metadata": {},
   "outputs": [],
   "source": [
    "# Import package\n",
    "from cosmian_secure_computation_client.crypto.helper import seal\n",
    "\n",
    "# Seal the symmetric key used to encrypt the code with the enclave public key\n",
    "sealed_symmetric_key = seal(symmetric_key, computation.enclave.identity.public_key)\n",
    "\n",
    "# Send the sealed symmetric key\n",
    "code_provider.key_provisioning(computation.uuid, sealed_symmetric_key);"
   ]
  },
  {
   "cell_type": "markdown",
   "metadata": {},
   "source": [
    "---\n",
    "## Step 6: Send data (Data Providers)\n",
    "\n",
    "As for the code, Alice encrypts her data with a symmetric key before sending them."
   ]
  },
  {
   "cell_type": "code",
   "execution_count": 6,
   "metadata": {
    "tags": []
   },
   "outputs": [],
   "source": [
    "# Load the dataset\n",
    "titanic = sns.load_dataset('titanic')\n",
    "titanic.to_csv(\"titanic.csv\")\n",
    "\n",
    "# Generate a symmetric key\n",
    "symmetric_key_dp1 = random_symkey()\n",
    "\n",
    "# Upload the data, encrypted\n",
    "path_1 = Path(\"titanic.csv\")\n",
    "data_provider1.push_files(computation_uuid, symmetric_key_dp1, [path_1]);\n",
    "data_provider1.done(computation_uuid);"
   ]
  },
  {
   "cell_type": "markdown",
   "metadata": {},
   "source": [
    "Once the data are sent, Alice can send her symmetric key, sealed with the public key of the enclave."
   ]
  },
  {
   "cell_type": "code",
   "execution_count": 7,
   "metadata": {},
   "outputs": [],
   "source": [
    "# Check the computation\n",
    "computation = data_provider1.get_computation(computation_uuid);\n",
    "quote = computation.enclave.identity.quote\n",
    "\n",
    "# Print the quote\n",
    "#print(\"\\n\\n\")\n",
    "#print(data_provider1.remote_attestation(quote))\n",
    "#print(\"\\n\\n\")\n",
    "\n",
    "# Seal the symmetric key used to encrypt the data with the enclave public key\n",
    "sealed_symmetric_key_dp1 = seal(symmetric_key_dp1, computation.enclave.identity.public_key)\n",
    "\n",
    "# Send the sealed symmetric key\n",
    "data_provider1.key_provisioning(computation_uuid, sealed_symmetric_key_dp1);"
   ]
  },
  {
   "cell_type": "markdown",
   "metadata": {},
   "source": [
    "---\n",
    "## Step 7: Run computation (Result Consumer)\n",
    "\n",
    "Finally, Alice will send the symmetric key that she will use later to decrypt the result.\n",
    "\n",
    "Again, this symmetric key is sealed with the public key of the enclave before being sent.\n",
    "\n",
    "Once the enclave receives this sealed key, the computation starts automatically."
   ]
  },
  {
   "cell_type": "code",
   "execution_count": 8,
   "metadata": {},
   "outputs": [],
   "source": [
    "# Generate a symmetric key\n",
    "symmetric_key_ro1 = random_symkey()\n",
    "\n",
    "# Check the computation\n",
    "computation = result_consumer1.get_computation(computation_uuid);\n",
    "quote = computation.enclave.identity.quote\n",
    "#print(\"\\n\\n\")\n",
    "#print(result_consumer.remote_attestation(quote))\n",
    "#print(\"\\n\\n\")\n",
    "\n",
    "# Seal the symmetric key with the enclave public key\n",
    "sealed_symmetric_key_ro1 = seal(symmetric_key_ro1, computation.enclave.identity.public_key)\n",
    "\n",
    "# Send the sealed symmetric key\n",
    "result_consumer1.key_provisioning(computation.uuid, sealed_symmetric_key_ro1);"
   ]
  },
  {
   "cell_type": "markdown",
   "metadata": {},
   "source": [
    "---\n",
    "## Step 8: Get result (Result Consumer)\n",
    "\n",
    "Once the run ends, the computation returns the exit code (`0` if everything worked, non-zero if there was an error) and the standard console outputs (`stdout` and `stderr`).\n",
    "\n",
    "If the exit code is `0`, Alice can fetch her result and decrypt it with her symmetric keys."
   ]
  },
  {
   "cell_type": "code",
   "execution_count": 9,
   "metadata": {},
   "outputs": [
    {
     "name": "stdout",
     "output_type": "stream",
     "text": [
      "Waiting 10s end of computation…\n",
      "Waiting 10s end of computation…\n",
      "Waiting 10s end of computation…\n",
      "Waiting 10s end of computation…\n"
     ]
    }
   ],
   "source": [
    "# Wait for the end of the computation\n",
    "while True:\n",
    "    computation = result_consumer1.get_computation(computation_uuid)\n",
    "    if computation.runs.current is None and len(computation.runs.previous) == 1:\n",
    "        run = computation.runs.previous[0]\n",
    "        if run.exit_code != 0:\n",
    "            print(\"\\n\\n### Exit Code ###\\n\")\n",
    "            print(run.exit_code)\n",
    "            print(\"\\n\\n### stdout ###\\n\")\n",
    "            print(run.stdout)\n",
    "            print(\"\\n\\n### stderr ###\\n\")\n",
    "            print(run.stderr)\n",
    "            print(\"\\n\\n\")\n",
    "            raise \"Run fail.\"\n",
    "        else:\n",
    "            break\n",
    "    else:\n",
    "        print(\"Waiting 10s end of computation…\")\n",
    "        time.sleep(10)"
   ]
  },
  {
   "cell_type": "code",
   "execution_count": 10,
   "metadata": {},
   "outputs": [
    {
     "data": {
      "text/plain": [
       "<seaborn.axisgrid.FacetGrid at 0x7ff78beda400>"
      ]
     },
     "execution_count": 10,
     "metadata": {},
     "output_type": "execute_result"
    },
    {
     "data": {
      "image/png": "[encoded data removed]",
      "text/plain": [
       "<Figure size 1080x360 with 3 Axes>"
      ]
     },
     "metadata": {
      "needs_background": "light"
     },
     "output_type": "display_data"
    }
   ],
   "source": [
    "# Import package\n",
    "from cosmian_secure_computation_client.crypto.helper import decrypt\n",
    "\n",
    "# Download the result\n",
    "encrypted_results = result_consumer1.fetch_results(computation.uuid)\n",
    "\n",
    "# Decrypt the result\n",
    "result = decrypt(encrypted_results, symmetric_key_ro1)\n",
    "\n",
    "# Write the result\n",
    "result_path: Path = Path(\"titanic_result.csv\")\n",
    "result_path.write_bytes(result)\n",
    "\n",
    "# Plot the result\n",
    "df = pd.read_csv(result_path)\n",
    "df.rename(columns={'1':'Survival rate'}, inplace=True)\n",
    "sns.catplot(x=\"class\", y=\"Survival rate\", col=\"who\",data=df, kind=\"bar\", palette=\"pastel\")"
   ]
  },
  {
   "cell_type": "code",
   "execution_count": null,
   "metadata": {},
   "outputs": [],
   "source": []
  }
 ],
 "metadata": {
  "kernelspec": {
   "display_name": "Python 3.8.13 ('secure-computation')",
   "language": "python",
   "name": "python3"
  },
  "language_info": {
   "codemirror_mode": {
    "name": "ipython",
    "version": 3
   },
   "file_extension": ".py",
   "mimetype": "text/x-python",
   "name": "python",
   "nbconvert_exporter": "python",
   "pygments_lexer": "ipython3",
   "version": "3.8.13"
  },
  "vscode": {
   "interpreter": {
    "hash": "112e773a387be49d61342d37b8f3c80293e15c26e524798b0ded78df37380cf0"
   }
  }
 },
 "nbformat": 4,
 "nbformat_minor": 4
}
