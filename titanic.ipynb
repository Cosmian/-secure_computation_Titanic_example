{
 "cells": [
  {
   "cell_type": "markdown",
   "metadata": {
    "tags": []
   },
   "source": [
    "# *Cosmian Secure Computation:* Run any Python code on encrypted data\n",
    "\n",
    "## Overview\n",
    "\n",
    "On April 15, 1912, the Titanic sank after colliding with an iceberg. Unfortunately, there weren’t enough lifeboats for everyone on board, resulting in the death of 1502 out of 2224 passengers and crew.\n",
    "\n",
    "Alice and Bob each have half of the passenger data (name, age, gender, socio-economic class, etc.) and want to collaborate on statistical analysis without sharing their data.\n",
    "\n",
    "*Cosmian Secure Computation* lets them do this analysis while their data stay encrypted the whole time.\n",
    "\n",
    "\n",
    "## Step 1: Create computation (Computation Owner)\n",
    "\n",
    "The first step is to create a computation and specify each role.\n",
    "\n",
    "In this example, Alice, the `Computation Owner`, is also the `Code Provider`, one of the `Data Providers`, and the `Result Consumer`.\n",
    "\n",
    "Bob, aka `Data Provider 2` and `Result Consumer 2`, will provide his data."
   ]
  },
  {
   "cell_type": "code",
   "execution_count": null,
   "metadata": {},
   "outputs": [],
   "source": [
    "%pip install cosmian_secure_computation_client>=0.4.2,<0.5.0 --quiet --upgrade\n",
    "%pip install seaborn --quiet\n",
    "%pip install pandas --quiet\n",
    "import seaborn as sns\n",
    "import pandas as pd\n",
    "import time\n",
    "\n",
    "from cosmian_secure_computation_client import ComputationOwnerAPI, CodeProviderAPI, DataProviderAPI, ResultConsumerAPI\n",
    "from cosmian_secure_computation_client import CryptoContext\n",
    "from cosmian_secure_computation_client.log import setup_logging\n",
    "from importlib.metadata import version\n",
    "from IPython.core.display import HTML\n",
    "from configparser import ConfigParser\n",
    "from pathlib import Path \n",
    "\n",
    "print(\"Cosmian Secure Computation Client version \" + version('cosmian_secure_computation_client'))\n",
    "\n",
    "# Secret tokens are loaded from the config.ini file\n",
    "config = ConfigParser()\n",
    "config.read(\"config.ini\")\n",
    "secret_token_alice = config[\"Credentials\"][\"token_1\"]\n",
    "secret_token_bob = config[\"Credentials\"][\"token_2\"]\n",
    "\n",
    "# Setup logging on the notebook\n",
    "setup_logging(debug=True)\n",
    "HTML(\"\"\"<style>.jp-RenderedText[data-mime-type='application/vnd.jupyter.stderr'] {background:#d3f8d3 !important;}</style>\"\"\")"
   ]
  },
  {
   "cell_type": "code",
   "execution_count": null,
   "metadata": {},
   "outputs": [],
   "source": [
    "# The Computation Owner creates a new computation\n",
    "computation_owner = ComputationOwnerAPI(secret_token_alice)\n",
    "computation = computation_owner.create_computation(\n",
    "    'Titanic 🌊 v0.4',\n",
    "    code_provider_email=\"alice@cosmian.com\",\n",
    "    data_providers_emails=[\"alice@cosmian.com\", \"bob@cosmian.com\"],\n",
    "    result_consumers_emails=[\"alice@cosmian.com\", \"bob@cosmian.com\"])"
   ]
  },
  {
   "cell_type": "markdown",
   "metadata": {
    "tags": []
   },
   "source": [
    "---\n",
    "## Step 2: Register (All participants)\n",
    "\n",
    "To register, participants need two things:\n",
    "1) **A secret token**. To get a secret token, participants must create an account on the [Cosmian console](https://console.cosmian.com) and go to the [Secret token page](https://console.cosmian.com/secret-token). In this example, the tokens are stored in the `config.ini` file. They were loaded in the previous cell.\n",
    "\n",
    "2) **A CryptoContext**. This object is generated client-side and contains the keys to encrypt and decrypt the code, the data, and the result.\n",
    "\n",
    "The CryptoContext also contains a **pre-shared secret**. It is a list of 3 words randomly picked from the BIP39 list. The Computation Owner generates this secret on their side and transfers it to the other participants only. The computation's participants only know them, and Cosmian will never ask for them."
   ]
  },
  {
   "cell_type": "code",
   "execution_count": null,
   "metadata": {},
   "outputs": [],
   "source": [
    "# The Computation Owner generates a list of three random words\n",
    "words = ComputationOwnerAPI.random_words()\n",
    "\n",
    "# The computation UUID is stored inside a variable\n",
    "computation_uuid = computation.uuid\n",
    "\n",
    "from cosmian_secure_computation_client import Side\n",
    "\n",
    "# The Code Provider registers\n",
    "code_provider_ctx = CryptoContext(computation_uuid=computation_uuid, side=Side.CodeProvider, words=words)\n",
    "code_provider = CodeProviderAPI(token=secret_token_alice, ctx=code_provider_ctx)\n",
    "code_provider.register(computation_uuid)\n",
    "\n",
    "\n",
    "# The Data Providers register\n",
    "data_provider1_ctx = CryptoContext(computation_uuid=computation_uuid, side=Side.DataProvider, words=words)\n",
    "data_provider1 = DataProviderAPI(token=secret_token_alice, ctx=data_provider1_ctx)\n",
    "data_provider1.register(computation_uuid)\n",
    "\n",
    "data_provider2_ctx = CryptoContext(computation_uuid=computation_uuid, side=Side.DataProvider, words=words)\n",
    "data_provider2 = DataProviderAPI(token=secret_token_bob, ctx=data_provider2_ctx)\n",
    "data_provider2.register(computation_uuid)\n",
    "\n",
    "\n",
    "# The Result Consumers register\n",
    "result_consumer1_ctx = CryptoContext(computation_uuid=computation_uuid, side=Side.ResultConsumer, words=words)\n",
    "result_consumer1 = ResultConsumerAPI(token=secret_token_alice, ctx=result_consumer1_ctx)\n",
    "result_consumer1.register(computation_uuid)\n",
    "\n",
    "result_consumer2_ctx = CryptoContext(computation_uuid=computation_uuid, side=Side.ResultConsumer, words=words)\n",
    "result_consumer2 = ResultConsumerAPI(token=secret_token_bob, ctx=result_consumer2_ctx)\n",
    "result_consumer2.register(computation_uuid)"
   ]
  },
  {
   "cell_type": "markdown",
   "metadata": {
    "tags": []
   },
   "source": [
    "---\n",
    "## Step 3: Provide code (Code Provider)\n",
    "\n",
    "Alice provides the code she wrote. It must be organized like this:\n",
    "\n",
    "```bash\n",
    "code_titanic\n",
    "├── secret_module.py\n",
    "└── run.py\n",
    "```\n",
    "\n",
    "The entire folder (except `run.py`) is encrypted with the CryptoContext's symmetric key before being sent to the enclave.\n",
    "\n",
    "Once the secure enclave receives the code, it is sealed and generates the computation checklist automatically."
   ]
  },
  {
   "cell_type": "code",
   "execution_count": null,
   "metadata": {},
   "outputs": [],
   "source": [
    "# The Code Provider specifies the path of their Python code directory\n",
    "path = Path(\"./code_titanic\")\n",
    "\n",
    "# The Code Provider sends their code. It is encrypted on the client-side\n",
    "code_provider.upload_code(computation_uuid, path);"
   ]
  },
  {
   "cell_type": "markdown",
   "metadata": {},
   "source": [
    "Once the enclave is generated, Alice can send her symmetric key, sealed with the public key of the enclave."
   ]
  },
  {
   "cell_type": "code",
   "execution_count": null,
   "metadata": {},
   "outputs": [],
   "source": [
    "# The Code Provider waits for the generation of the enclave identity\n",
    "enclave_public_key = code_provider.wait_for_enclave_identity(computation_uuid)"
   ]
  },
  {
   "cell_type": "code",
   "execution_count": null,
   "metadata": {},
   "outputs": [],
   "source": [
    "# The Code Provider sends their sealed symmetric key\n",
    "computation = code_provider.get_computation(computation_uuid)\n",
    "code_provider.key_provisioning(computation_uuid, computation.enclave.identity.public_key)"
   ]
  },
  {
   "cell_type": "markdown",
   "metadata": {},
   "source": [
    "---\n",
    "## Step 4: Send data (Data Providers)\n",
    "\n",
    "Alice and Bob, the `Data Providers`, can now provide their data. As for the code, data are encrypted with symmetric keys before sending them.\n",
    "\n",
    "Alice provides her dataset (`titanic_1.csv`) and Bob his (`titanic_2.csv`). Once the data are sent, Alice and Bob can send their symmetric keys, sealed with the public key of the enclave."
   ]
  },
  {
   "cell_type": "code",
   "execution_count": null,
   "metadata": {
    "tags": []
   },
   "outputs": [],
   "source": [
    "# Load and split the Titanic dataset from the seaborn library\n",
    "titanic = sns.load_dataset('titanic')\n",
    "titanic_1=titanic.sample(frac=0.5)\n",
    "titanic_2=titanic.drop(titanic_1.index)\n",
    "titanic_1.to_csv(\"data/titanic_1.csv\")\n",
    "titanic_2.to_csv(\"data/titanic_2.csv\")\n",
    "\n",
    "\n",
    "# The Data Provider 1 sends their data\n",
    "path_1 = Path(\"data/titanic_1.csv\")\n",
    "data_provider1.upload_files(computation_uuid, [path_1])\n",
    "data_provider1.done(computation_uuid)\n",
    "\n",
    "\n",
    "# The Data Provider 2 sends their data\n",
    "path_2 = Path(\"data/titanic_2.csv\")\n",
    "data_provider2.upload_files(computation_uuid, [path_2])\n",
    "data_provider2.done(computation_uuid)"
   ]
  },
  {
   "cell_type": "markdown",
   "metadata": {},
   "source": [
    "Once the data are sent, Alice and Bob can send their symmetric keys, also sealed with the public key of the enclave."
   ]
  },
  {
   "cell_type": "code",
   "execution_count": null,
   "metadata": {},
   "outputs": [],
   "source": [
    "# The Data Provider 1 sends their sealed symmetric key\n",
    "data_provider1.key_provisioning(computation_uuid, computation.enclave.identity.public_key)\n",
    "\n",
    "# The Data Provider 2 sends their sealed symmetric key\n",
    "data_provider2.key_provisioning(computation_uuid, computation.enclave.identity.public_key)"
   ]
  },
  {
   "cell_type": "markdown",
   "metadata": {},
   "source": [
    "---\n",
    "## Step 5: Run computation (Result Consumers)\n",
    "\n",
    "Finally, Alice and Bob, who also are `Result Consumers`, will send their sealed symmetric keys. They will use that key later to decrypt the result.\n",
    "\n",
    "Again, these symmetric keys are sealed with the public key of the enclave before being sent.\n",
    "\n",
    "Once the enclave receives the sealed keys, the computation starts automatically."
   ]
  },
  {
   "cell_type": "code",
   "execution_count": null,
   "metadata": {},
   "outputs": [],
   "source": [
    "# The Result Consumer 1 sends their sealed symmetric key\n",
    "result_consumer1.key_provisioning(computation_uuid, computation.enclave.identity.public_key)\n",
    "\n",
    "# The Result Consumer 2 sends their sealed symmetric key\n",
    "result_consumer2.key_provisioning(computation_uuid, computation.enclave.identity.public_key)"
   ]
  },
  {
   "cell_type": "markdown",
   "metadata": {},
   "source": [
    "---\n",
    "## Step 6: Get result (Result Consumers)\n",
    "\n",
    "Once the run ends, the computation returns the exit code (`0` if everything worked, non-zero if there was an error) and the standard console outputs (`stdout` and `stderr`).\n",
    "\n",
    "If the exit code is `0`, Alice and Bob can fetch their results and decrypt them with their symmetric keys."
   ]
  },
  {
   "cell_type": "code",
   "execution_count": null,
   "metadata": {},
   "outputs": [],
   "source": [
    "# The Result Consumer 1 waits for the result and fetches it. The result is decrypted automatically with the key stored in the CryptoContext\n",
    "result = result_consumer1.wait_result(computation_uuid)"
   ]
  },
  {
   "cell_type": "code",
   "execution_count": null,
   "metadata": {},
   "outputs": [],
   "source": [
    "# The result is written on the disc\n",
    "result_path: Path = Path(\"data/titanic_result.csv\")\n",
    "result_path.write_bytes(result)\n",
    "\n",
    "# The result is deserialized and plotted on the Notebook\n",
    "df = pd.read_csv(result_path)\n",
    "df.rename(columns={'1':'Survival rate'}, inplace=True)\n",
    "sns.catplot(x=\"class\", y=\"Survival rate\", col=\"who\",data=df, kind=\"bar\", palette=\"pastel\")"
   ]
  }
 ],
 "metadata": {
  "kernelspec": {
   "display_name": "Python 3.8.13 ('secure-computation')",
   "language": "python",
   "name": "python3"
  },
  "language_info": {
   "codemirror_mode": {
    "name": "ipython",
    "version": 3
   },
   "file_extension": ".py",
   "mimetype": "text/x-python",
   "name": "python",
   "nbconvert_exporter": "python",
   "pygments_lexer": "ipython3",
   "version": "3.8.13"
  },
  "toc-autonumbering": false,
  "toc-showcode": false,
  "toc-showmarkdowntxt": false,
  "toc-showtags": false,
  "vscode": {
   "interpreter": {
    "hash": "112e773a387be49d61342d37b8f3c80293e15c26e524798b0ded78df37380cf0"
   }
  }
 },
 "nbformat": 4,
 "nbformat_minor": 4
}
